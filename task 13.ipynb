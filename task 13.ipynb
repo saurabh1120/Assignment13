{
 "cells": [
  {
   "cell_type": "markdown",
   "metadata": {},
   "source": [
    "## Task 13\n",
    "## Name- Saurabh Sinha\n",
    "## Registration no.-SIRSS1263\n"
   ]
  },
  {
   "cell_type": "markdown",
   "metadata": {},
   "source": [
    "### Q1. Given a square matrix, turn it by 90 degrees in a clockwise direction without using anyextra space."
   ]
  },
  {
   "cell_type": "code",
   "execution_count": null,
   "metadata": {},
   "outputs": [],
   "source": [
    "def Rotate90(x):\n",
    "    n= len(x[0])\n",
    "    for i in range(n//2):\n",
    "        for j in range(i,n-i-1):\n",
    "            temp=x[i][j]\n",
    "            \n",
    "            x[i][j]=x[n-1-j][i]\n",
    "            \n",
    "            x[n-1-j][i]=x[n-1-i][n-1-j]\n",
    "            \n",
    "            x[n-1-i][n-1-j]=x[j][n-1-i]\n",
    "            \n",
    "            x[j][n-1-i]=temp\n",
    "            \n",
    "def printM(x):\n",
    "    n=len(x[0])\n",
    "    for i in range(n):\n",
    "        print(x[i])\n",
    "        "
   ]
  },
  {
   "cell_type": "code",
   "execution_count": null,
   "metadata": {},
   "outputs": [],
   "source": [
    "# x=[[1,2],[3,4]]\n",
    "\n",
    "x=[[1,2,3],[4,5,6],[7,8,9]]\n",
    "\n",
    "Rotate90(x)\n",
    "printM(x)"
   ]
  },
  {
   "cell_type": "markdown",
   "metadata": {},
   "source": [
    "### Q.2) Given a string S, check if it is palindrome or not."
   ]
  },
  {
   "cell_type": "code",
   "execution_count": null,
   "metadata": {},
   "outputs": [],
   "source": [
    "def Palind(x):\n",
    "    for i in range(0,int(len(x)/2)):\n",
    "        if x[i]!=x[len(x)-i-1]:\n",
    "            return False\n",
    "        return True\n",
    "string=input(\"\")\n",
    "result=Palind(string)\n",
    "\n",
    "if(result):\n",
    "    print(\"yes its a Palindrome\")\n",
    "else:\n",
    "    print(\"Not a palindrome\")"
   ]
  },
  {
   "cell_type": "markdown",
   "metadata": {},
   "source": [
    "### Q.3) Given an expression string x. Examine whether the pairs and the orders of\n",
    "### “{“,”}”,”(“,”)”,”[“,”]” are correct in exp.\n",
    "### For example, the function should return 'true' for exp =\n",
    "### “[()]{}{[(()()}” and 'false' for exp = “[(])”."
   ]
  },
  {
   "cell_type": "code",
   "execution_count": null,
   "metadata": {},
   "outputs": [],
   "source": [
    "def balbracket(expr):\n",
    "    l = []\n",
    " \n",
    "    for i in expr:\n",
    "        if i in [\"(\", \"{\", \"[\"]:\n",
    " \n",
    "            l.append(i)\n",
    "        else:\n",
    " \n",
    "            if not l:\n",
    "                return False\n",
    "            cc = l.pop()\n",
    "            if cc == '(':\n",
    "                if i != \")\":\n",
    "                    return False\n",
    "            if cc == '{':\n",
    "                if i != \"}\":\n",
    "                    return False\n",
    "            if cc == '[':\n",
    "                if i != \"]\":\n",
    "                    return False\n",
    " \n",
    "    if l:\n",
    "        return False\n",
    "    return True\n"
   ]
  },
  {
   "cell_type": "code",
   "execution_count": null,
   "metadata": {},
   "outputs": [],
   "source": [
    " \n",
    "if __name__ == \"__main__\":\n",
    "    expr = input(\"\")\n",
    " \n",
    "    if balbracket(expr):\n",
    "        print(\"Balanced\")\n",
    "    else:\n",
    "        print(\"Not Balanced\")"
   ]
  },
  {
   "cell_type": "markdown",
   "metadata": {},
   "source": [
    "### Q4. Problem Statement: Selection of MPCS exams include a fitness test which is conducted on ground. There will be a batch of 3 trainees, appearing for running test in track for 3 rounds. You need to record their oxygen level after every round. After the trainees are finished with all rounds, calculate for each trainee his average oxygen level over the 3 rounds and select one with highest oxygen level as the most fit trainee. Thus, if more than one trainee attains the same highest average level, then all need to be selected.\n",
    "\n",
    "### Display the most fit trainee (or trainees) and the highest average oxygen level.\n",
    "\n",
    "### Note:\n",
    "\n",
    "### The oxygen value entered should not be accepted if it is not in the range between 1 and 100. Moreover, if the calculated maximum average oxygen value of trainees is below 70 then declare the trainees as unfit with meaningful message as “All trainees are unfit”. Average Oxygen Values should be rounded."
   ]
  },
  {
   "cell_type": "code",
   "execution_count": null,
   "metadata": {},
   "outputs": [],
   "source": [
    "trainee = [[],[],[],[]]\n",
    "for i in range(3):\n",
    "    for j in range(3):\n",
    "        trainee[i].append(int(input()))\n",
    "        if (trainee[i][-1]) not in range(1,101):\n",
    "            print(\"invalid input\")\n",
    "\n",
    "for i in range(3):\n",
    "    trainee[3].append((trainee[2][i]+trainee[1][i]+trainee[0][i])//3)\n",
    "\n",
    "maximum = max(trainee[3])\n",
    "\n",
    "for i in range(3):\n",
    "    \n",
    "    if trainee[3][i] < 70 :\n",
    "        print(\"Trainee {0} is unfit\".format(i+1))\n",
    "    \n",
    "    elif trainee[3][i] == maximum:\n",
    "        print(\"Trainee Number: \",i+1)"
   ]
  },
  {
   "cell_type": "markdown",
   "metadata": {},
   "source": [
    "## Thankyou"
   ]
  }
 ],
 "metadata": {
  "kernelspec": {
   "display_name": "Python 3",
   "language": "python",
   "name": "python3"
  },
  "language_info": {
   "codemirror_mode": {
    "name": "ipython",
    "version": 3
   },
   "file_extension": ".py",
   "mimetype": "text/x-python",
   "name": "python",
   "nbconvert_exporter": "python",
   "pygments_lexer": "ipython3",
   "version": "3.8.5"
  }
 },
 "nbformat": 4,
 "nbformat_minor": 4
}
